{
 "cells": [
  {
   "cell_type": "markdown",
   "metadata": {},
   "source": [
    "# CS 230 Project Code\n",
    "\n",
    "Authors: Delaney Miller and Russell Martin <br>\n",
    "Class: CS 230: Deep Learning <br>\n",
    "Date: 16 May 2021 <br>\n",
    "Description: Predict peak medial knee joint contact force (MCF) from kinematic data (joint angles) during walking using a neural network. This Jupyter Notebook uses open-source code excerpts taken from Boswell et al., 2021 (cited below), who predicted the first peak of knee adduction moment (KAM) from kinematic data in the form of 3D marker coordinates.  This notebook is for testing a variety of neural network architectures as well as combinations of input and output features to evaluate model performance. <br>\n",
    "\n",
    "Open-source code modified from:\n",
    "\n",
    "M. A. Boswell et al., “A neural network to predict the knee adduction moment in patients with osteoarthritis using anatomical landmarks obtainable from 2D video analysis,” Osteoarthritis Cartilage, vol. 29, no. 3, pp. 346–356, Mar. 2021, doi: 10.1016/j.joca.2020.12.017.\n"
   ]
  },
  {
   "cell_type": "markdown",
   "metadata": {},
   "source": [
    "# Part I: Load and format data\n",
    "\n",
    "### (1) Load required packages, user inputs"
   ]
  },
  {
   "cell_type": "code",
   "execution_count": 4,
   "metadata": {},
   "outputs": [],
   "source": [
    "# Taken from from Boswell et al.\n",
    "\n",
    "# packages \n",
    "import scipy.io as sio #\n",
    "import tensorflow as tf #\n",
    "import numpy as np #\n",
    "import scipy.signal\n",
    "import keras\n",
    "from keras.models import Sequential\n",
    "from keras.initializers import glorot_normal\n",
    "from keras.layers import Dense, Dropout\n",
    "import tensorflow.python.keras.backend as K\n",
    "from keras.losses import mean_squared_error\n",
    "import matplotlib.pyplot as plt #\n",
    "%matplotlib inline\n",
    "import csv\n",
    "import scipy.stats\n",
    "import os\n",
    "\n",
    "# Flag if 3D, frontal, or sagittal\n",
    "modeltype = '3D' # Options are '3D', 'frontal', or 'sagittal'\n",
    "    \n",
    "# Configure to use CPU or GPU (we are using CPU)\n",
    "config = tf.compat.v1.ConfigProto(device_count = {'CPU' : 1, 'GPU' : 0})\n",
    "session = tf.compat.v1.Session(config=config)\n",
    "K.set_session(session)"
   ]
  },
  {
   "cell_type": "markdown",
   "metadata": {},
   "source": [
    "### (2) Define functions for later in script"
   ]
  },
  {
   "cell_type": "code",
   "execution_count": 5,
   "metadata": {},
   "outputs": [],
   "source": [
    "# Taken from Boswell et al., modified to say \"MCF\"\n",
    "\n",
    "def r2_numpy(data,labels,model):\n",
    "    y_pred2 = model.predict(data)\n",
    "    mse = np.mean(np.square(y_pred2-labels))\n",
    "    r2 = np.square(np.corrcoef(labels.T,y_pred2.T)[0,1])\n",
    "    mae = np.mean(np.abs(y_pred2-labels))\n",
    "    return r2,mse,mae\n",
    "\n",
    "def PredictMCF(model,inputData):\n",
    "    predictedMCF = model.predict(inputData[range(inputData.shape[0]),:])\n",
    "    return predictedMCF\n",
    "\n",
    "def PlotMCFpredictions(trueMCF,predictedMCF):\n",
    "    # Plot predicted and true peaks vs. step\n",
    "    plt.figure(1)\n",
    "    truePlot = plt.plot(trueMCF)\n",
    "    predPlot = plt.plot(predictedMCF)\n",
    "    plt.ylabel('MCF Peak Comparison')\n",
    "    plt.xlabel('Step')\n",
    "    plt.legend(('True','Predicted'),loc=4);\n",
    "\n",
    "    # Plot predicted vs. true peaks\n",
    "    plt.figure(2)\n",
    "    ax = plt.plot(trueMCF,predictedMCF,'.',color=(45/255, 107/255, 179/255),alpha=0.05)\n",
    "    plt.axis('equal')\n",
    "    plt.ylabel('Predicted MCF')\n",
    "    plt.xlabel('True MCF')\n",
    "    plt.ylim(1,4)\n",
    "    plt.xlim(1,4)\n",
    "    plt.plot([-1,4],[-1,4],'k')\n",
    "    plt.grid(color='grey', linestyle='-', linewidth=0.25, alpha=0.5)\n",
    "    \n",
    "def PlotTrainingCurves(trainResults,devResults,epochCount):\n",
    "    # Plot training curves\n",
    "    lossPlt = plt.plot(np.arange(1,epochCount+1),train_loss[range(epochCount)])\n",
    "    DevlossPlt = plt.plot(np.arange(1,epochCount+1),dev_loss[range(epochCount)])\n",
    "\n",
    "    plt.ylabel('Mean Squared Error')\n",
    "    plt.xlabel('Epoch Number');\n",
    "    plt.legend(('Training','Dev'))\n",
    "\n",
    "    plt.figure(2)\n",
    "    r2Plt = plt.plot(np.arange(1,epochCount+1),train_r2[range(epochCount)])\n",
    "    devr2Plt = plt.plot(np.arange(1,epochCount+1),dev_r2[range(epochCount)])\n",
    "    plt.ylim([.2, 1])\n",
    "    plt.ylabel('r^2')\n",
    "    plt.xlabel('Epoch Number');\n",
    "    plt.legend(('Training','Dev'))\n",
    "    \n",
    "if modeltype not in ['3D', 'frontal', 'sagittal']:\n",
    "    raise ValueError(\"Error: Options are '3D' 'frontal' or 'sagittal'.\")"
   ]
  },
  {
   "cell_type": "markdown",
   "metadata": {},
   "source": [
    "### (3) Load input data"
   ]
  },
  {
   "cell_type": "code",
   "execution_count": 6,
   "metadata": {},
   "outputs": [
    {
     "name": "stdout",
     "output_type": "stream",
     "text": [
      "Inverse kinematics: (101, 31, 7779)\n",
      "Time: (101, 7779)\n",
      "Stance leg: (7779, 1)\n",
      "Subject number: (7779, 1)\n",
      "Medial contact force: (101, 7779)\n",
      "Early-stance MCF peak: (7779, 1)\n",
      "Late-stance MCF peak: (7779, 1)\n",
      "Mid-stance MCF valley: (7779, 1)\n"
     ]
    }
   ],
   "source": [
    "# Load input data\n",
    "inputData = sio.loadmat(\"Data\\inputData.mat\")\n",
    "\n",
    "# Load input data (X)\n",
    "ik = inputData[\"ik\"] # time + inverse kinematics (101, 32, 7779)\n",
    "ik_input = ik[:,1:,:]\n",
    "time_input = ik[:,0,:]\n",
    "leg = inputData[\"leg\"].T  # stance leg (per step) (7779,1)\n",
    "subject = inputData[\"subject\"].T  # subject number (per step) (7779,1)\n",
    "\n",
    "# Load output data (Y)\n",
    "MCF = inputData[\"MCF\"] # MCF over time (101, 7779)\n",
    "peakMCF_early = inputData[\"peakMCF_early\"].T # early stance peak\n",
    "peakMCF_late = inputData[\"peakMCF_late\"].T # late stance peak\n",
    "minMCF = inputData[\"minMCF\"].T # mid stance valley\n",
    "\n",
    "# Print output dimensions\n",
    "print(\"Inverse kinematics: \" + str(ik_input.shape))\n",
    "print(\"Time: \" + str(time_input.shape))\n",
    "print(\"Stance leg: \" + str(leg.shape))\n",
    "print(\"Subject number: \" + str(subject.shape))\n",
    "print(\"Medial contact force: \" + str(MCF.shape))\n",
    "print(\"Early-stance MCF peak: \" + str(peakMCF_early.shape))\n",
    "print(\"Late-stance MCF peak: \" + str(peakMCF_late.shape))\n",
    "print(\"Mid-stance MCF valley: \" + str(minMCF.shape))"
   ]
  },
  {
   "cell_type": "markdown",
   "metadata": {},
   "source": [
    "### (4) Format input data"
   ]
  },
  {
   "cell_type": "code",
   "execution_count": 51,
   "metadata": {},
   "outputs": [
    {
     "name": "stdout",
     "output_type": "stream",
     "text": [
      "Leg: (7779, 101, 1)\n",
      "Joint angles: (7779, 101, 31)\n",
      "Time: (7779, 101, 1)\n",
      "Input shape: (7779, 50, 32)\n"
     ]
    }
   ],
   "source": [
    "# Leg dimensions (nSamples, 101, 1)\n",
    "legBin = np.expand_dims(np.tile(leg,(1,101)),axis=2)\n",
    "print(\"Leg: \" + str(legBin.shape))\n",
    "\n",
    "# Adjust joint angles to correct dimensions (nSamples, nTimesteps, nFeatures)\n",
    "angles = np.transpose(ik_input, axes=[2, 0, 1])\n",
    "print(\"Joint angles: \" + str(angles.shape))\n",
    "\n",
    "# Time dimensions (nSamples, 1, 1) - DON'T END UP USING\n",
    "time_input = time_input - time_input[0,:] # make sure each stride starts at 0.0s\n",
    "time = np.expand_dims(np.transpose(time_input), axis = 2)\n",
    "print(\"Time: \" + str(time.shape))\n",
    "\n",
    "# Concatenate legBin with angles\n",
    "inputMat = np.concatenate((angles, legBin), axis = 2)\n",
    "\n",
    "# Resample inputMat (nTimesteps = 16, down from 101)\n",
    "#inputMat = scipy.signal.resample(inputMat, 16, axis = 1)\n",
    "\n",
    "# Use positions from first half of stance\n",
    "inputMat = inputMat[:,0:50,:]\n",
    "print(\"Input shape: \" + str(inputMat.shape))"
   ]
  },
  {
   "cell_type": "markdown",
   "metadata": {},
   "source": [
    "### (5) Format output data (currently just early-stance MCF)"
   ]
  },
  {
   "cell_type": "code",
   "execution_count": 52,
   "metadata": {},
   "outputs": [
    {
     "name": "stdout",
     "output_type": "stream",
     "text": [
      "Output shape is (7779, 1, 1)\n"
     ]
    },
    {
     "data": {
      "image/png": "[encoded data removed]",
      "text/plain": [
       "<Figure size 432x288 with 1 Axes>"
      ]
     },
     "metadata": {
      "needs_background": "light"
     },
     "output_type": "display_data"
    }
   ],
   "source": [
    "# Reshape the output (nSamples, 1, 1)\n",
    "output = np.expand_dims(peakMCF_early,axis=2)\n",
    "print(\"Output shape is \" + str(output.shape))\n",
    "# next step: multiple outputs (e.g. early and late-stance peaks in MCF)\n",
    "\n",
    "# Plot output data\n",
    "plt.plot(output[:,0,0]);\n",
    "plt.ylabel(\"Peak MCF (BW)\");\n",
    "plt.xlabel(\"Step\");"
   ]
  },
  {
   "cell_type": "markdown",
   "metadata": {},
   "source": [
    "### (6) Divide into train, development, and test sets"
   ]
  },
  {
   "cell_type": "code",
   "execution_count": 53,
   "metadata": {},
   "outputs": [
    {
     "name": "stdout",
     "output_type": "stream",
     "text": [
      "Train: 54 subjects\n",
      "Dev: 7 subjects\n",
      "Test: 7 subjects\n"
     ]
    }
   ],
   "source": [
    "# Set the seed so it is reproducible\n",
    "np.random.seed(1)\n",
    "nSubjects = len(np.unique(subject)) # 68 subjects\n",
    "subject_shuffle = np.unique(subject)\n",
    "np.random.shuffle(subject_shuffle)\n",
    "\n",
    "# 80-10-10 split (54-7-7 subjects)\n",
    "train, dev, test = np.split(subject_shuffle, [int(0.8*len(subject_shuffle)), int(0.9*len(subject_shuffle))])\n",
    "print(\"Train: \" + str(len(train)) + \" subjects\")\n",
    "print(\"Dev: \" + str(len(dev)) + \" subjects\")\n",
    "print(\"Test: \" + str(len(test)) + \" subjects\")\n",
    "\n",
    "# Find step indicies for each subject in each set (taken from Boswell et al., 2021)\n",
    "trainInds = np.array(0)\n",
    "for i in train:\n",
    "    trainInds = np.append(trainInds,np.argwhere(subject==i))\n",
    "trainInds = trainInds[1:]\n",
    "    \n",
    "devInds = np.array(0)\n",
    "for i in dev:\n",
    "    devInds = np.append(devInds,np.argwhere(subject==i))\n",
    "devInds = devInds[1:]\n",
    "\n",
    "testInds = np.array(0)\n",
    "for i in test:\n",
    "    testInds = np.append(testInds,np.argwhere(subject==i))\n",
    "testInds = testInds[1:]\n",
    "\n",
    "# Build training, development, and test inputs and labels (taken from Boswell et al., 2021)\n",
    "trainInput_full = inputMat[trainInds,:,:]\n",
    "trainInput_full = trainInput_full.reshape((trainInput_full.shape[0],-1)) # flatten\n",
    "trainLabels = output[trainInds,0]\n",
    "\n",
    "devInput_full = inputMat[devInds,:,:]\n",
    "devInput_full = devInput_full.reshape((devInput_full.shape[0],-1)) # flatten\n",
    "devLabels = output[devInds,0]\n",
    "\n",
    "testInput_full = inputMat[testInds,:,:]\n",
    "testInput_full = testInput_full.reshape((testInput_full.shape[0],-1))\n",
    "testLabels = output[testInds,0]"
   ]
  },
  {
   "cell_type": "markdown",
   "metadata": {},
   "source": [
    "### (7) Remove redundant leg inputs"
   ]
  },
  {
   "cell_type": "code",
   "execution_count": 54,
   "metadata": {},
   "outputs": [
    {
     "name": "stdout",
     "output_type": "stream",
     "text": [
      "Train input: (12318, 1551)\n",
      "Dev input: (1640, 1551)\n",
      "Test input: (1600, 1551)\n"
     ]
    }
   ],
   "source": [
    "# Extract indices of leg (every 32nd index, leave first one)\n",
    "inputIdx = np.delete(np.arange(0,trainInput_full.shape[1]), np.arange(63, trainInput_full.shape[1], 32))\n",
    "\n",
    "# Could also do some sort of input feature selection here if we wanted to!\n",
    "\n",
    "# Remove additional leg input features\n",
    "trainInput = trainInput_full[:,inputIdx]\n",
    "devInput = devInput_full[:,inputIdx]\n",
    "testInput = testInput_full[:,inputIdx]\n",
    "\n",
    "print(\"Train input: \" + str(trainInput.shape))\n",
    "print(\"Dev input: \" + str(devInput.shape))\n",
    "print(\"Test input: \" + str(testInput.shape))\n"
   ]
  },
  {
   "cell_type": "markdown",
   "metadata": {},
   "source": [
    "# Part II: Train neural network\n",
    "\n",
    "### (8) Construct model function"
   ]
  },
  {
   "cell_type": "code",
   "execution_count": 55,
   "metadata": {},
   "outputs": [
    {
     "name": "stdout",
     "output_type": "stream",
     "text": [
      "Model: \"sequential_21\"\n",
      "_________________________________________________________________\n",
      "Layer (type)                 Output Shape              Param #   \n",
      "=================================================================\n",
      "dense_81 (Dense)             (None, 800)               1241600   \n",
      "_________________________________________________________________\n",
      "dropout_60 (Dropout)         (None, 800)               0         \n",
      "_________________________________________________________________\n",
      "dense_82 (Dense)             (None, 1)                 801       \n",
      "=================================================================\n",
      "Total params: 1,242,401\n",
      "Trainable params: 1,242,401\n",
      "Non-trainable params: 0\n",
      "_________________________________________________________________\n"
     ]
    }
   ],
   "source": [
    "# Code taken from Boswell et al.\n",
    "# We added L2 regularizers\n",
    "\n",
    "train_r2 = np.empty((1000,1))\n",
    "dev_r2 = np.empty((1000,1))\n",
    "train_loss = np.empty((1000,1))\n",
    "dev_loss = np.empty((1000,1))\n",
    "epochCount = 0 ;\n",
    "\n",
    "def construct_model(nHiddenUnits, nHiddenLayers, input_dim, output_dim):\n",
    "    np.random.seed(1)\n",
    "    tf.compat.v1.set_random_seed(1)\n",
    "\n",
    "    model = Sequential()\n",
    "    model.add(Dense(800,input_shape = (input_dim,), kernel_initializer=glorot_normal(seed=None) , activation='relu'))\n",
    "    kernel_regularizer= tf.keras.regularizers.l2(0.01) # added\n",
    "    bias_regularizer= tf.keras.regularizers.l2(0.01) # added\n",
    "    for i in range(nHiddenLayers-1):\n",
    "        model.add(Dropout(0.01))\n",
    "        model.add(Dense(nHiddenUnits, kernel_initializer=glorot_normal(seed=None) , activation='relu'))\n",
    "        kernel_regularizer = tf.keras.regularizers.l2(0.01) # added\n",
    "        bias_regularizer = tf.keras.regularizers.l2(0.01) # added\n",
    "    \n",
    "    model.add(Dropout(0.01))\n",
    "    model.add(Dense(1,kernel_initializer=glorot_normal(seed=None),activation='linear'))\n",
    "    \n",
    "    model.compile(loss='mean_squared_error',optimizer='adam')\n",
    "    return model\n",
    "\n",
    "model = construct_model(nHiddenUnits = 100, nHiddenLayers = 1, input_dim = trainInput.shape[1], output_dim = trainLabels.shape[1])\n",
    "model.summary()\n"
   ]
  },
  {
   "cell_type": "markdown",
   "metadata": {},
   "source": [
    "### (9) Train a model with customized inputs"
   ]
  },
  {
   "cell_type": "code",
   "execution_count": 56,
   "metadata": {
    "scrolled": false
   },
   "outputs": [
    {
     "name": "stdout",
     "output_type": "stream",
     "text": [
      "Model: \"sequential_22\"\n",
      "_________________________________________________________________\n",
      "Layer (type)                 Output Shape              Param #   \n",
      "=================================================================\n",
      "dense_83 (Dense)             (None, 800)               1241600   \n",
      "_________________________________________________________________\n",
      "dropout_61 (Dropout)         (None, 800)               0         \n",
      "_________________________________________________________________\n",
      "dense_84 (Dense)             (None, 100)               80100     \n",
      "_________________________________________________________________\n",
      "dropout_62 (Dropout)         (None, 100)               0         \n",
      "_________________________________________________________________\n",
      "dense_85 (Dense)             (None, 100)               10100     \n",
      "_________________________________________________________________\n",
      "dropout_63 (Dropout)         (None, 100)               0         \n",
      "_________________________________________________________________\n",
      "dense_86 (Dense)             (None, 100)               10100     \n",
      "_________________________________________________________________\n",
      "dropout_64 (Dropout)         (None, 100)               0         \n",
      "_________________________________________________________________\n",
      "dense_87 (Dense)             (None, 100)               10100     \n",
      "_________________________________________________________________\n",
      "dropout_65 (Dropout)         (None, 100)               0         \n",
      "_________________________________________________________________\n",
      "dense_88 (Dense)             (None, 1)                 101       \n",
      "=================================================================\n",
      "Total params: 1,352,101\n",
      "Trainable params: 1,352,101\n",
      "Non-trainable params: 0\n",
      "_________________________________________________________________\n",
      "Epoch 1 of 30.\n",
      "385/385 - 3s - loss: 0.8128\n",
      "Train_loss = [0.06163734], Train_r2 = [0.65346507], Dev_loss = [0.13140835], Dev_r2 = [0.18730521]\n",
      "saving best model\n",
      "Epoch 2 of 30.\n",
      "385/385 - 3s - loss: 0.0798\n",
      "Train_loss = [0.02956292], Train_r2 = [0.80817753], Dev_loss = [0.05736688], Dev_r2 = [0.39635372]\n",
      "saving best model\n",
      "Epoch 3 of 30.\n",
      "385/385 - 3s - loss: 0.0588\n",
      "Train_loss = [0.03348283], Train_r2 = [0.80957621], Dev_loss = [0.05678212], Dev_r2 = [0.48298036]\n",
      "saving best model\n",
      "Epoch 4 of 30.\n",
      "385/385 - 3s - loss: 0.0475\n",
      "Train_loss = [0.02714689], Train_r2 = [0.83996564], Dev_loss = [0.05947315], Dev_r2 = [0.36346911]\n",
      "Epoch 5 of 30.\n",
      "385/385 - 3s - loss: 0.0417\n",
      "Train_loss = [0.02054323], Train_r2 = [0.86749539], Dev_loss = [0.04700125], Dev_r2 = [0.51000603]\n",
      "saving best model\n",
      "Epoch 6 of 30.\n",
      "385/385 - 3s - loss: 0.0335\n",
      "Train_loss = [0.01771636], Train_r2 = [0.88517834], Dev_loss = [0.05476098], Dev_r2 = [0.43958166]\n",
      "Epoch 7 of 30.\n",
      "385/385 - 3s - loss: 0.0318\n",
      "Train_loss = [0.02144259], Train_r2 = [0.8740299], Dev_loss = [0.06018355], Dev_r2 = [0.38082623]\n",
      "Epoch 8 of 30.\n",
      "385/385 - 3s - loss: 0.0302\n",
      "Train_loss = [0.02001594], Train_r2 = [0.89226456], Dev_loss = [0.06045299], Dev_r2 = [0.44819444]\n",
      "Epoch 9 of 30.\n",
      "385/385 - 3s - loss: 0.0272\n",
      "Train_loss = [0.01466559], Train_r2 = [0.90650118], Dev_loss = [0.03889802], Dev_r2 = [0.64642582]\n",
      "saving best model\n",
      "Epoch 10 of 30.\n",
      "385/385 - 3s - loss: 0.0268\n",
      "Train_loss = [0.02107194], Train_r2 = [0.86708415], Dev_loss = [0.07986727], Dev_r2 = [0.22011563]\n",
      "Epoch 11 of 30.\n",
      "385/385 - 3s - loss: 0.0259\n",
      "Train_loss = [0.01659285], Train_r2 = [0.90606951], Dev_loss = [0.05836715], Dev_r2 = [0.56963817]\n",
      "Epoch 12 of 30.\n",
      "385/385 - 3s - loss: 0.0237\n",
      "Train_loss = [0.0159241], Train_r2 = [0.89973276], Dev_loss = [0.05129595], Dev_r2 = [0.46823716]\n",
      "Epoch 13 of 30.\n",
      "385/385 - 3s - loss: 0.0237\n",
      "Train_loss = [0.0227325], Train_r2 = [0.87958237], Dev_loss = [0.06899178], Dev_r2 = [0.4079217]\n",
      "Epoch 14 of 30.\n",
      "385/385 - 3s - loss: 0.0226\n",
      "Train_loss = [0.01963107], Train_r2 = [0.88942127], Dev_loss = [0.0520259], Dev_r2 = [0.37561292]\n",
      "Epoch 15 of 30.\n",
      "385/385 - 3s - loss: 0.0577\n",
      "Train_loss = [0.01587214], Train_r2 = [0.90075064], Dev_loss = [0.06580111], Dev_r2 = [0.27379564]\n",
      "Epoch 16 of 30.\n",
      "385/385 - 3s - loss: 0.0240\n",
      "Train_loss = [0.01939488], Train_r2 = [0.88087504], Dev_loss = [0.06756775], Dev_r2 = [0.21630111]\n",
      "Epoch 17 of 30.\n",
      "385/385 - 3s - loss: 0.0215\n",
      "Train_loss = [0.01253877], Train_r2 = [0.91727145], Dev_loss = [0.06974385], Dev_r2 = [0.26196705]\n",
      "Epoch 18 of 30.\n",
      "385/385 - 3s - loss: 0.0201\n",
      "Train_loss = [0.01539619], Train_r2 = [0.90893199], Dev_loss = [0.05415382], Dev_r2 = [0.39261838]\n",
      "No Longer Improving\n",
      "For Best Epoch:9 Train r2 =[0.90650118] Dev r2 =[0.64642582]\n"
     ]
    },
    {
     "data": {
      "image/png": "[encoded data removed]",
      "text/plain": [
       "<Figure size 432x288 with 1 Axes>"
      ]
     },
     "metadata": {
      "needs_background": "light"
     },
     "output_type": "display_data"
    },
    {
     "data": {
      "image/png": "[encoded data removed]",
      "text/plain": [
       "<Figure size 432x288 with 1 Axes>"
      ]
     },
     "metadata": {
      "needs_background": "light"
     },
     "output_type": "display_data"
    }
   ],
   "source": [
    "# Code taken from Boswell et al., 2021\n",
    "# We modified hyperparameters such as nHiddenUnits, nHiddenLayers\n",
    "\n",
    "nEpochs = 30\n",
    "models = [] ;\n",
    "\n",
    "train_r2 = np.zeros((1000,1))\n",
    "dev_r2 = np.zeros((1000,1))\n",
    "train_loss = np.zeros((1000,1))\n",
    "dev_loss = np.zeros((1000,1))\n",
    "train_mae = np.zeros((1000,1))\n",
    "dev_mae = np.zeros((1000,1))\n",
    "epochCount = 0 ;\n",
    "\n",
    "thisModel = construct_model(nHiddenUnits = 100, nHiddenLayers = 5, input_dim = trainInput.shape[1], output_dim = trainLabels.shape[1])\n",
    "thisModel.summary()\n",
    "\n",
    "for i in range(nEpochs):\n",
    "    print('Epoch ' + str(i+1) + ' of ' + str(nEpochs) + '.')\n",
    "\n",
    "    history = thisModel.fit(trainInput,trainLabels, epochs=1 , batch_size = 32, shuffle = True, verbose=2)\n",
    "\n",
    "    train_r2[epochCount], train_loss[epochCount], train_mae[epochCount] = r2_numpy(trainInput,trainLabels,thisModel)\n",
    "    dev_r2[epochCount], dev_loss[epochCount], dev_mae[epochCount] = r2_numpy(devInput,devLabels,thisModel)\n",
    "    print('Train_loss = ' + str(train_loss[epochCount]) + ', Train_r2 = ' + str(train_r2[epochCount]) + ', Dev_loss = ' + str(dev_loss[epochCount]) + ', Dev_r2 = ' + str(dev_r2[epochCount]))\n",
    "\n",
    "    devBest = np.argmin(dev_loss[dev_loss !=0])\n",
    "    if i-devBest > 8: # stop training if dev hasn't gotten better in last 6 epochs\n",
    "        print('No Longer Improving')\n",
    "        break\n",
    "        \n",
    "    if i == devBest:\n",
    "        model = keras.models.clone_model(thisModel)\n",
    "        model.set_weights(thisModel.get_weights())\n",
    "        print('saving best model')\n",
    "\n",
    "    epochCount = epochCount + 1 ;\n",
    "            \n",
    "bestEpoch = np.argmin(dev_loss[dev_loss !=0])\n",
    "print('For Best Epoch:' + str(bestEpoch+1) + ' Train r2 =' + str(train_r2[bestEpoch]) + ' Dev r2 =' + str(dev_r2[bestEpoch]))\n",
    "\n",
    "# Plot training curves\n",
    "PlotTrainingCurves(train_r2,dev_r2,epochCount)"
   ]
  },
  {
   "cell_type": "markdown",
   "metadata": {},
   "source": [
    "### (10) Save newly trained model"
   ]
  },
  {
   "cell_type": "code",
   "execution_count": 57,
   "metadata": {},
   "outputs": [
    {
     "name": "stdout",
     "output_type": "stream",
     "text": [
      "Saved model to disk\n"
     ]
    }
   ],
   "source": [
    "# Taken from Boswell et al., 2021\n",
    "\n",
    "# Make directory for newly trained models\n",
    "if not os.path.isdir('NewlyTrainedModels'):\n",
    "    os.mkdir('NewlyTrainedModels')\n",
    "\n",
    "# Serialize model to JSON\n",
    "model_json = model.to_json()\n",
    "with open(\"NewlyTrainedModels/NeuralNet_\" + modeltype + \"_newModel.json\", \"w\") as json_file:\n",
    "    json_file.write(model_json)\n",
    "    \n",
    "# serialize weights to HDF5\n",
    "model.save_weights(\"NewlyTrainedModels/NeuralNet_\" + modeltype + \"_newModel_weights.h5\")\n",
    "print(\"Saved model to disk\")"
   ]
  },
  {
   "cell_type": "markdown",
   "metadata": {},
   "source": [
    "### (11) Evaluate Predictions"
   ]
  },
  {
   "cell_type": "code",
   "execution_count": 59,
   "metadata": {},
   "outputs": [
    {
     "name": "stdout",
     "output_type": "stream",
     "text": [
      "r2 = 0.6413423663357725, MSE = 0.03293646399010877, MAE = 0.10127209094023132\n"
     ]
    },
    {
     "data": {
      "image/png": "[encoded data removed]",
      "text/plain": [
       "<Figure size 432x288 with 1 Axes>"
      ]
     },
     "metadata": {
      "needs_background": "light"
     },
     "output_type": "display_data"
    },
    {
     "data": {
      "image/png": "[encoded data removed]",
      "text/plain": [
       "<Figure size 432x288 with 1 Axes>"
      ]
     },
     "metadata": {
      "needs_background": "light"
     },
     "output_type": "display_data"
    }
   ],
   "source": [
    "# Taken from Boswell et al., 2021\n",
    "\n",
    "# Evaluate model performance on one of the data splits\n",
    "# Change BOTH INPUT AND LABELS for data split that you'd like to use for model evaluation\n",
    "inputForEval = testInput # options: trainInput, devInput, testInput\n",
    "labelsForEval = testLabels # options: trainLabels, devLabels, testLabels\n",
    "\n",
    "# Only after model hyperparameter tuning was finished, we evaluated on test set\n",
    "predictionsForEval = PredictMCF(model,inputForEval)\n",
    "\n",
    "# Plot predicted vs true KAM predictions\n",
    "PlotMCFpredictions(labelsForEval,predictionsForEval)\n",
    "\n",
    "# Print performance metrics\n",
    "evaluatedMetrics = r2_numpy(inputForEval,labelsForEval,model)\n",
    "print('r2 = ' + str(evaluatedMetrics[0]) + ', MSE = ' + str(evaluatedMetrics[1])+ ', MAE = ' + str(evaluatedMetrics[2]))"
   ]
  }
 ],
 "metadata": {
  "kernelspec": {
   "display_name": "Python 3",
   "language": "python",
   "name": "python3"
  },
  "language_info": {
   "codemirror_mode": {
    "name": "ipython",
    "version": 3
   },
   "file_extension": ".py",
   "mimetype": "text/x-python",
   "name": "python",
   "nbconvert_exporter": "python",
   "pygments_lexer": "ipython3",
   "version": "3.8.8"
  }
 },
 "nbformat": 4,
 "nbformat_minor": 2
}
