{
 "cells": [
  {
   "cell_type": "markdown",
   "metadata": {},
   "source": [
    "# CS 230 Project Code\n",
    "\n",
    "Authors: Delaney Miller and Russell Martin <br>\n",
    "Class: CS 230: Deep Learning <br>\n",
    "Date: 16 May 2021 <br>\n",
    "Description: Predict peak medial knee joint contact force (MCF) from kinematic data (joint angles) during walking using a neural network. This Jupyter Notebook uses open-source code excerpts taken from Boswell et al., 2021 (cited below), who predicted the first peak of knee adduction moment (KAM) from kinematic data in the form of 3D marker coordinates.  This notebook is for testing a variety of neural network architectures as well as combinations of input and output features to evaluate model performance. <br>\n",
    "\n",
    "Open-source code modified from:\n",
    "\n",
    "M. A. Boswell et al., “A neural network to predict the knee adduction moment in patients with osteoarthritis using anatomical landmarks obtainable from 2D video analysis,” Osteoarthritis Cartilage, vol. 29, no. 3, pp. 346–356, Mar. 2021, doi: 10.1016/j.joca.2020.12.017.\n"
   ]
  },
  {
   "cell_type": "markdown",
   "metadata": {},
   "source": [
    "# Part I: Load and format data\n",
    "\n",
    "### (1) Load required packages, user inputs"
   ]
  },
  {
   "cell_type": "code",
   "execution_count": 341,
   "metadata": {},
   "outputs": [],
   "source": [
    "# Taken from from Boswell et al.\n",
    "\n",
    "# packages \n",
    "import scipy.io as sio #\n",
    "import tensorflow as tf #\n",
    "import tensorflow_addons as tfa\n",
    "import numpy as np #\n",
    "import scipy.signal\n",
    "# import keras\n",
    "import tensorflow.keras as keras\n",
    "from keras.models import Sequential\n",
    "from keras.initializers import glorot_normal\n",
    "from keras.layers import Dense, Dropout\n",
    "import tensorflow.python.keras.backend as K\n",
    "from keras.losses import mean_squared_error\n",
    "import matplotlib.pyplot as plt #\n",
    "%matplotlib inline\n",
    "import csv\n",
    "import scipy.stats\n",
    "import os\n",
    "\n",
    "# Flag if 3D, frontal, or sagittal\n",
    "modeltype = '3D' # Options are '3D', 'frontal', or 'sagittal'\n",
    "outputType = 'max' # Options are 'early', 'late', 'both', 'three', 'max', and 'all' for peak MCF\n",
    "    \n",
    "# Configure to use CPU or GPU (we are using CPU)\n",
    "config = tf.compat.v1.ConfigProto(device_count = {'CPU' : 1, 'GPU' : 0})\n",
    "session = tf.compat.v1.Session(config=config)\n",
    "K.set_session(session)"
   ]
  },
  {
   "cell_type": "markdown",
   "metadata": {},
   "source": [
    "### (2) Define functions for later in script"
   ]
  },
  {
   "cell_type": "code",
   "execution_count": 52,
   "metadata": {},
   "outputs": [],
   "source": [
    "# Taken from Boswell et al., modified to say \"MCF\"\n",
    "\n",
    "def r2_numpy(data,labels,model):\n",
    "    y_pred2 = model.predict(data)\n",
    "    mse = np.mean(np.square(y_pred2-labels))\n",
    "    r2 = np.square(np.corrcoef(labels.T,y_pred2.T)[0,1])\n",
    "    mae = np.mean(np.abs(y_pred2-labels))\n",
    "    return r2,mse,mae\n",
    "\n",
    "def PredictMCF(model,inputData):\n",
    "    predictedMCF = model.predict(inputData[range(inputData.shape[0]),:])\n",
    "    return predictedMCF\n",
    "\n",
    "def PlotMCFpredictions(trueMCF,predictedMCF):\n",
    "    # Plot predicted and true peaks vs. step\n",
    "    plt.figure()\n",
    "    truePlot = plt.plot(trueMCF)\n",
    "    predPlot = plt.plot(predictedMCF)\n",
    "    plt.ylabel('MCF Peak Comparison')\n",
    "    plt.xlabel('Step')\n",
    "    plt.legend(('True','Predicted'),loc=4);\n",
    "\n",
    "    # Plot predicted vs. true peaks\n",
    "    plt.figure()\n",
    "    ax = plt.plot(trueMCF,predictedMCF,'.',color=(45/255, 107/255, 179/255),alpha=0.05)\n",
    "    plt.axis('equal')\n",
    "    plt.ylabel('Predicted MCF')\n",
    "    plt.xlabel('True MCF')\n",
    "    plt.ylim(1,4)\n",
    "    plt.xlim(1,4)\n",
    "    plt.plot([-1,4],[-1,4],'k')\n",
    "    plt.grid(color='grey', linestyle='-', linewidth=0.25, alpha=0.5)\n",
    "    \n",
    "def PlotTrainingCurves(trainResults,devResults,epochCount):\n",
    "    # Plot training curves\n",
    "    lossPlt = plt.plot(np.arange(1,epochCount+1),train_loss[range(epochCount)])\n",
    "    DevlossPlt = plt.plot(np.arange(1,epochCount+1),dev_loss[range(epochCount)])\n",
    "\n",
    "    plt.ylabel('Mean Squared Error')\n",
    "    plt.xlabel('Epoch Number');\n",
    "    plt.legend(('Training','Dev'))\n",
    "\n",
    "    plt.figure(2)\n",
    "    r2Plt = plt.plot(np.arange(1,epochCount+1),train_r2[range(epochCount)])\n",
    "    devr2Plt = plt.plot(np.arange(1,epochCount+1),dev_r2[range(epochCount)])\n",
    "    plt.ylim([.2, 1])\n",
    "    plt.ylabel('r^2')\n",
    "    plt.xlabel('Epoch Number');\n",
    "    plt.legend(('Training','Dev'))\n",
    "    \n",
    "if modeltype not in ['3D', 'frontal', 'sagittal']:\n",
    "    raise ValueError(\"Error: Options are '3D' 'frontal' or 'sagittal'.\")"
   ]
  },
  {
   "cell_type": "markdown",
   "metadata": {},
   "source": [
    "### (3) Load input data"
   ]
  },
  {
   "cell_type": "code",
   "execution_count": 347,
   "metadata": {},
   "outputs": [
    {
     "name": "stdout",
     "output_type": "stream",
     "text": [
      "Inverse kinematics: (101, 31, 7779)\n",
      "Time: (101, 7779)\n",
      "Stance leg: (7779, 1)\n",
      "Subject number: (7779, 1)\n",
      "Medial contact force: (101, 7779)\n",
      "Peak MCF: (7779, 1)\n",
      "Early-stance MCF peak: (7779, 1)\n",
      "Late-stance MCF peak: (7779, 1)\n",
      "Mid-stance MCF valley: (7779, 1)\n"
     ]
    }
   ],
   "source": [
    "# Load input data\n",
    "inputData = sio.loadmat(\"Data\\inputData.mat\")\n",
    "\n",
    "# Load input data (X)\n",
    "ik = inputData[\"ik\"] # time + inverse kinematics (101, 32, 7779)\n",
    "ik_input = ik[:,1:,:]\n",
    "time_input = ik[:,0,:]\n",
    "leg = inputData[\"leg\"].T  # stance leg (per step) (7779,1)\n",
    "subject = inputData[\"subject\"].T  # subject number (per step) (7779,1)\n",
    "\n",
    "# Load output data (Y)\n",
    "MCF = inputData[\"MCF\"] # MCF over time (101, 7779)\n",
    "peakMCF_early = inputData[\"peakMCF_early\"].T # early stance peak (SORT OF NOT WORKING RN)\n",
    "peakMCF_late = inputData[\"peakMCF_late\"].T # late stance peak (SORT OF NOT WORKING RN)\n",
    "minMCF = inputData[\"minMCF\"].T # mid stance valley\n",
    "peakMCF = np.amax(MCF, axis = 0, keepdims = True).T\n",
    "\n",
    "# Print output dimensions\n",
    "print(\"Inverse kinematics: \" + str(ik_input.shape))\n",
    "print(\"Time: \" + str(time_input.shape))\n",
    "print(\"Stance leg: \" + str(leg.shape))\n",
    "print(\"Subject number: \" + str(subject.shape))\n",
    "print(\"Medial contact force: \" + str(MCF.shape))\n",
    "print(\"Peak MCF: \" + str(peakMCF.shape))\n",
    "print(\"Early-stance MCF peak: \" + str(peakMCF_early.shape))\n",
    "print(\"Late-stance MCF peak: \" + str(peakMCF_late.shape))\n",
    "print(\"Mid-stance MCF valley: \" + str(minMCF.shape))"
   ]
  },
  {
   "cell_type": "markdown",
   "metadata": {},
   "source": [
    "### (4) Format input data"
   ]
  },
  {
   "cell_type": "code",
   "execution_count": 349,
   "metadata": {},
   "outputs": [
    {
     "name": "stdout",
     "output_type": "stream",
     "text": [
      "Leg: (7779, 101, 1)\n",
      "Joint angles: (7779, 101, 31)\n",
      "Time: (7779, 101, 1)\n",
      "Input shape: (7779, 16, 32)\n"
     ]
    }
   ],
   "source": [
    "# Leg dimensions (nSamples, 101, 1)\n",
    "legBin = np.expand_dims(np.tile(leg,(1,101)),axis=2)\n",
    "print(\"Leg: \" + str(legBin.shape))\n",
    "\n",
    "# Adjust joint angles to correct dimensions (nSamples, nTimesteps, nFeatures)\n",
    "angles = np.transpose(ik_input, axes=[2, 0, 1])\n",
    "print(\"Joint angles: \" + str(angles.shape))\n",
    "\n",
    "# Time dimensions (nSamples, 1, 1) - DON'T END UP USING\n",
    "time_input = time_input - time_input[0,:] # make sure each stride starts at 0.0s\n",
    "time = np.expand_dims(np.transpose(time_input), axis = 2)\n",
    "print(\"Time: \" + str(time.shape))\n",
    "\n",
    "# Concatenate legBin with angles\n",
    "inputMat = np.concatenate((angles, legBin), axis = 2)\n",
    "\n",
    "# Resample inputMat (nTimesteps = 16, down from 101)\n",
    "inputMat = scipy.signal.resample(inputMat, 16, axis = 1)\n",
    "\n",
    "# Use positions from first half of stance\n",
    "#inputMat = inputMat[:,0:50,:]\n",
    "print(\"Input shape: \" + str(inputMat.shape))"
   ]
  },
  {
   "cell_type": "markdown",
   "metadata": {},
   "source": [
    "### (5) Format output data"
   ]
  },
  {
   "cell_type": "code",
   "execution_count": 350,
   "metadata": {},
   "outputs": [
    {
     "name": "stdout",
     "output_type": "stream",
     "text": [
      "Output shape is (7779, 1, 1)\n"
     ]
    },
    {
     "data": {
      "image/png": "[encoded data removed]",
      "text/plain": [
       "<Figure size 432x288 with 1 Axes>"
      ]
     },
     "metadata": {
      "needs_background": "light"
     },
     "output_type": "display_data"
    }
   ],
   "source": [
    "if outputType == 'all':\n",
    "    output = np.expand_dims(MCF.T, axis = 2)\n",
    "    output = scipy.signal.resample(output, 32, axis = 1)\n",
    "    print(\"Output shape is: \" + str(output.shape))\n",
    "    \n",
    "elif outputType == 'three':\n",
    "    output = np.concatenate([peakMCF_early, minMCF], axis = 1)\n",
    "    output = np.expand_dims(np.concatenate([output, peakMCF_late], axis = 1),axis = 2)\n",
    "    \n",
    "    # plot both peaks and valley\n",
    "    plt.figure()\n",
    "    plt.plot(output[:,0,0]);\n",
    "    plt.ylabel(\"Early-stance peak MCF (BW)\");\n",
    "    plt.xlabel(\"Step\");\n",
    "    plt.figure()\n",
    "    plt.plot(output[:,1,0]);\n",
    "    plt.ylabel(\"Mid-stance minimum MCF (BW)\");\n",
    "    plt.xlabel(\"Step\");\n",
    "    plt.figure()\n",
    "    plt.plot(output[:,2,0]);\n",
    "    plt.ylabel(\"Late-stance peak MCF (BW)\");\n",
    "    plt.xlabel(\"Step\");\n",
    "\n",
    "elif outputType == 'both':\n",
    "    # next step: multiple outputs (e.g. early and late-stance peaks in MCF)\n",
    "    output = np.expand_dims(np.concatenate([peakMCF_early, peakMCF_late], axis = 1),axis = 2)\n",
    "    print(\"Output shape is: \" + str(output.shape))\n",
    "\n",
    "    # plot both peaks\n",
    "    plt.figure(1)\n",
    "    plt.plot(output[:,0,0]);\n",
    "    plt.ylabel(\"Early-stance peak MCF (BW)\");\n",
    "    plt.xlabel(\"Step\");\n",
    "    plt.figure(2)\n",
    "    plt.plot(output[:,1,0]);\n",
    "    plt.ylabel(\"Late-stance peak MCF (BW)\");\n",
    "    plt.xlabel(\"Step\");\n",
    "\n",
    "else:\n",
    "    if outputType == 'early':\n",
    "        # Reshape the output (nSamples, 1, 1)\n",
    "        output = np.expand_dims(peakMCF_early,axis=2)\n",
    "    \n",
    "    elif outputType == 'late':\n",
    "        output = np.expand_dims(peakMCF_early,axis=2)\n",
    "        \n",
    "    elif outputType == 'max':\n",
    "        output = np.expand_dims(peakMCF,axis=2)\n",
    "\n",
    "    print(\"Output shape is \" + str(output.shape))\n",
    "    # Plot output data\n",
    "    plt.plot(output[:,0,0]);\n",
    "    plt.ylabel(\"Peak MCF (BW)\");\n",
    "    plt.xlabel(\"Step\");"
   ]
  },
  {
   "cell_type": "markdown",
   "metadata": {},
   "source": [
    "### (6) Divide into train, development, and test sets"
   ]
  },
  {
   "cell_type": "code",
   "execution_count": 351,
   "metadata": {},
   "outputs": [
    {
     "name": "stdout",
     "output_type": "stream",
     "text": [
      "Train: 54 subjects\n",
      "Dev: 7 subjects\n",
      "Test: 7 subjects\n"
     ]
    }
   ],
   "source": [
    "# Set the seed so it is reproducible\n",
    "np.random.seed(1)\n",
    "nSubjects = len(np.unique(subject)) # 68 subjects\n",
    "subject_shuffle = np.unique(subject)\n",
    "np.random.shuffle(subject_shuffle)\n",
    "\n",
    "# 80-10-10 split (54-7-7 subjects)\n",
    "train, dev, test = np.split(subject_shuffle, [int(0.8*len(subject_shuffle)), int(0.9*len(subject_shuffle))])\n",
    "print(\"Train: \" + str(len(train)) + \" subjects\")\n",
    "print(\"Dev: \" + str(len(dev)) + \" subjects\")\n",
    "print(\"Test: \" + str(len(test)) + \" subjects\")\n",
    "\n",
    "# Find step indicies for each subject in each set (taken from Boswell et al., 2021)\n",
    "trainInds = np.array(0)\n",
    "for i in train:\n",
    "    trainInds = np.append(trainInds,np.argwhere(subject==i)[:,0])\n",
    "trainInds = trainInds[1:]\n",
    "    \n",
    "devInds = np.array(0)\n",
    "for i in dev:\n",
    "    devInds = np.append(devInds,np.argwhere(subject==i)[:,0])\n",
    "devInds = devInds[1:]\n",
    "\n",
    "testInds = np.array(0)\n",
    "for i in test:\n",
    "    testInds = np.append(testInds,np.argwhere(subject==i)[:,0])\n",
    "testInds = testInds[1:]\n",
    "\n",
    "# Build training, development, and test inputs and labels (taken from Boswell et al., 2021)\n",
    "trainInput_full = inputMat[trainInds,:,:]\n",
    "trainInput_full = trainInput_full.reshape((trainInput_full.shape[0],-1)) # flatten\n",
    "trainLabels = output[trainInds,:,0]\n",
    "\n",
    "devInput_full = inputMat[devInds,:,:]\n",
    "devInput_full = devInput_full.reshape((devInput_full.shape[0],-1)) # flatten\n",
    "devLabels = output[devInds,:,0]\n",
    "\n",
    "testInput_full = inputMat[testInds,:,:]\n",
    "testInput_full = testInput_full.reshape((testInput_full.shape[0],-1))\n",
    "testLabels = output[testInds,:,0]"
   ]
  },
  {
   "cell_type": "markdown",
   "metadata": {},
   "source": [
    "### (7) Remove redundant leg inputs"
   ]
  },
  {
   "cell_type": "code",
   "execution_count": 352,
   "metadata": {},
   "outputs": [
    {
     "name": "stdout",
     "output_type": "stream",
     "text": [
      "Train input: (6159, 497)\n",
      "Dev input: (820, 497)\n",
      "Test input: (800, 497)\n"
     ]
    }
   ],
   "source": [
    "# Extract indices of leg (every 32nd index, leave first one)\n",
    "inputIdx = np.delete(np.arange(0,trainInput_full.shape[1]), np.arange(63, trainInput_full.shape[1], 32))\n",
    "\n",
    "# Could also do some sort of input feature selection here if we wanted to!\n",
    "\n",
    "# Remove additional leg input features\n",
    "trainInput = trainInput_full[:,inputIdx]\n",
    "devInput = devInput_full[:,inputIdx]\n",
    "testInput = testInput_full[:,inputIdx]\n",
    "\n",
    "print(\"Train input: \" + str(trainInput.shape))\n",
    "print(\"Dev input: \" + str(devInput.shape))\n",
    "print(\"Test input: \" + str(testInput.shape))"
   ]
  },
  {
   "cell_type": "markdown",
   "metadata": {},
   "source": [
    "# Part II: Train feed-forward neural network\n",
    "\n",
    "In the current version, we predict the early and late stance peaks of MCF, along with the mid-stance valley.\n",
    "\n",
    "### (8) Construct model function"
   ]
  },
  {
   "cell_type": "code",
   "execution_count": 360,
   "metadata": {},
   "outputs": [],
   "source": [
    "# Modified from Boswell et al., 2021\n",
    "\n",
    "def construct_model(nHiddenUnits, nHiddenLayers, input_dim, output_dim, loss):\n",
    "    np.random.seed(2)\n",
    "    tf.compat.v1.set_random_seed(2)\n",
    "\n",
    "    model = Sequential()\n",
    "    kernel_regularizer= tf.keras.regularizers.L2(0.01) # added (changed from 0.01 to 0.1)\n",
    "    bias_regularizer= tf.keras.regularizers.l2(0.01) # added\n",
    "    # kernel_regularizer= tf.keras.regularizers L1L2(l1 = 1., l2 = 1.) # added (changed from 0.01 to 0.1)\n",
    "    \n",
    "    model.add(Dense(800,input_shape = (input_dim,), kernel_initializer=glorot_normal(seed=None) , activation='relu'))\n",
    "    \n",
    "    for i in range(nHiddenLayers-1):\n",
    "        model.add(Dropout(0.01))\n",
    "        model.add(Dense(nHiddenUnits, kernel_initializer=glorot_normal(seed=None) , activation='relu'))\n",
    "                  # kernel_regularizer = kernel_regularizer, bias_regularizer = bias_regularizer))\n",
    "    \n",
    "    model.add(Dropout(0.01))\n",
    "    model.add(Dense(output_dim,kernel_initializer=glorot_normal(seed=None),activation='linear'))\n",
    "    # rmse = tf.keras.metrics.RootMeanSquaredError()\n",
    "    model.compile(loss=loss,optimizer='adam', metrics=['mse'])\n",
    "    return model"
   ]
  },
  {
   "cell_type": "markdown",
   "metadata": {},
   "source": [
    "### (9) Train a model with customized inputs"
   ]
  },
  {
   "cell_type": "code",
   "execution_count": 361,
   "metadata": {
    "scrolled": false
   },
   "outputs": [
    {
     "name": "stdout",
     "output_type": "stream",
     "text": [
      "Model: \"sequential_72\"\n",
      "_________________________________________________________________\n",
      "Layer (type)                 Output Shape              Param #   \n",
      "=================================================================\n",
      "dense_370 (Dense)            (None, 800)               398400    \n",
      "_________________________________________________________________\n",
      "dropout_273 (Dropout)        (None, 800)               0         \n",
      "_________________________________________________________________\n",
      "dense_371 (Dense)            (None, 1)                 801       \n",
      "=================================================================\n",
      "Total params: 399,201\n",
      "Trainable params: 399,201\n",
      "Non-trainable params: 0\n",
      "_________________________________________________________________\n",
      "Epoch 1/100\n",
      "193/193 - 1s - loss: 21.0329 - mse: 21.0329 - val_loss: 8.5523 - val_mse: 8.5523\n",
      "Epoch 2/100\n",
      "193/193 - 1s - loss: 3.3027 - mse: 3.3027 - val_loss: 0.5475 - val_mse: 0.5475\n",
      "Epoch 3/100\n",
      "193/193 - 1s - loss: 1.2073 - mse: 1.2073 - val_loss: 1.4323 - val_mse: 1.4323\n",
      "Epoch 4/100\n",
      "193/193 - 1s - loss: 1.5244 - mse: 1.5244 - val_loss: 1.7410 - val_mse: 1.7410\n",
      "Epoch 5/100\n",
      "193/193 - 1s - loss: 0.8004 - mse: 0.8004 - val_loss: 1.7008 - val_mse: 1.7008\n",
      "Epoch 6/100\n",
      "193/193 - 1s - loss: 1.4558 - mse: 1.4558 - val_loss: 2.9720 - val_mse: 2.9720\n",
      "Epoch 7/100\n",
      "193/193 - 1s - loss: 1.7308 - mse: 1.7308 - val_loss: 1.5251 - val_mse: 1.5251\n",
      "Epoch 8/100\n",
      "193/193 - 1s - loss: 0.2761 - mse: 0.2761 - val_loss: 1.2641 - val_mse: 1.2641\n",
      "Epoch 9/100\n",
      "193/193 - 1s - loss: 0.2240 - mse: 0.2240 - val_loss: 0.5256 - val_mse: 0.5256\n",
      "Epoch 10/100\n",
      "193/193 - 1s - loss: 0.2066 - mse: 0.2066 - val_loss: 1.3472 - val_mse: 1.3472\n",
      "Epoch 11/100\n",
      "193/193 - 1s - loss: 0.3003 - mse: 0.3003 - val_loss: 0.7597 - val_mse: 0.7597\n",
      "Epoch 12/100\n",
      "193/193 - 1s - loss: 0.1482 - mse: 0.1482 - val_loss: 0.5124 - val_mse: 0.5124\n",
      "Epoch 13/100\n",
      "193/193 - 1s - loss: 0.2459 - mse: 0.2459 - val_loss: 0.6899 - val_mse: 0.6899\n",
      "Epoch 14/100\n",
      "193/193 - 1s - loss: 0.1301 - mse: 0.1301 - val_loss: 0.8187 - val_mse: 0.8187\n",
      "Epoch 15/100\n",
      "193/193 - 1s - loss: 0.1219 - mse: 0.1219 - val_loss: 0.3832 - val_mse: 0.3832\n",
      "Epoch 16/100\n",
      "193/193 - 1s - loss: 0.1530 - mse: 0.1530 - val_loss: 2.7910 - val_mse: 2.7910\n",
      "Epoch 17/100\n",
      "193/193 - 1s - loss: 0.3459 - mse: 0.3459 - val_loss: 0.2558 - val_mse: 0.2558\n",
      "Epoch 18/100\n",
      "193/193 - 1s - loss: 0.0635 - mse: 0.0635 - val_loss: 0.2647 - val_mse: 0.2647\n",
      "Epoch 19/100\n",
      "193/193 - 1s - loss: 0.0556 - mse: 0.0556 - val_loss: 0.3137 - val_mse: 0.3137\n",
      "Epoch 20/100\n",
      "193/193 - 1s - loss: 0.0529 - mse: 0.0529 - val_loss: 0.3199 - val_mse: 0.3199\n",
      "Epoch 21/100\n",
      "193/193 - 1s - loss: 0.0568 - mse: 0.0568 - val_loss: 0.3122 - val_mse: 0.3122\n",
      "Epoch 22/100\n",
      "193/193 - 1s - loss: 0.0453 - mse: 0.0453 - val_loss: 0.2548 - val_mse: 0.2548\n",
      "Epoch 23/100\n",
      "193/193 - 1s - loss: 0.0499 - mse: 0.0499 - val_loss: 0.2460 - val_mse: 0.2460\n",
      "Epoch 24/100\n",
      "193/193 - 1s - loss: 0.0450 - mse: 0.0450 - val_loss: 0.2548 - val_mse: 0.2548\n",
      "Epoch 25/100\n",
      "193/193 - 1s - loss: 0.0408 - mse: 0.0408 - val_loss: 0.2491 - val_mse: 0.2491\n",
      "Epoch 26/100\n",
      "193/193 - 1s - loss: 0.0418 - mse: 0.0418 - val_loss: 0.1354 - val_mse: 0.1354\n",
      "Epoch 27/100\n",
      "193/193 - 1s - loss: 0.0423 - mse: 0.0423 - val_loss: 0.1335 - val_mse: 0.1335\n",
      "Epoch 28/100\n",
      "193/193 - 1s - loss: 0.0474 - mse: 0.0474 - val_loss: 0.2527 - val_mse: 0.2527\n",
      "Epoch 29/100\n",
      "193/193 - 1s - loss: 0.0404 - mse: 0.0404 - val_loss: 0.3397 - val_mse: 0.3397\n",
      "Epoch 30/100\n",
      "193/193 - 1s - loss: 0.0437 - mse: 0.0437 - val_loss: 0.2190 - val_mse: 0.2190\n",
      "Epoch 31/100\n",
      "193/193 - 1s - loss: 0.0414 - mse: 0.0414 - val_loss: 0.2368 - val_mse: 0.2368\n",
      "Epoch 32/100\n",
      "193/193 - 1s - loss: 0.0362 - mse: 0.0362 - val_loss: 0.2699 - val_mse: 0.2699\n",
      "Epoch 33/100\n",
      "193/193 - 1s - loss: 0.0461 - mse: 0.0461 - val_loss: 0.2106 - val_mse: 0.2106\n",
      "Epoch 34/100\n",
      "193/193 - 1s - loss: 0.0397 - mse: 0.0397 - val_loss: 0.2376 - val_mse: 0.2376\n",
      "Epoch 35/100\n",
      "193/193 - 1s - loss: 0.0402 - mse: 0.0402 - val_loss: 0.2026 - val_mse: 0.2026\n",
      "Epoch 36/100\n",
      "193/193 - 1s - loss: 0.0367 - mse: 0.0367 - val_loss: 0.2254 - val_mse: 0.2254\n",
      "Epoch 37/100\n",
      "193/193 - 1s - loss: 0.0334 - mse: 0.0334 - val_loss: 0.2136 - val_mse: 0.2136\n",
      "Epoch 38/100\n",
      "193/193 - 1s - loss: 0.0358 - mse: 0.0358 - val_loss: 0.1565 - val_mse: 0.1565\n",
      "Epoch 39/100\n",
      "193/193 - 1s - loss: 0.0413 - mse: 0.0413 - val_loss: 0.1523 - val_mse: 0.1523\n",
      "Epoch 40/100\n",
      "193/193 - 1s - loss: 0.0527 - mse: 0.0527 - val_loss: 0.1326 - val_mse: 0.1326\n",
      "Epoch 41/100\n",
      "193/193 - 1s - loss: 0.0434 - mse: 0.0434 - val_loss: 0.2403 - val_mse: 0.2403\n",
      "Epoch 42/100\n",
      "193/193 - 1s - loss: 0.0415 - mse: 0.0415 - val_loss: 0.2610 - val_mse: 0.2610\n",
      "Epoch 43/100\n",
      "193/193 - 1s - loss: 0.0395 - mse: 0.0395 - val_loss: 0.2637 - val_mse: 0.2637\n",
      "Epoch 44/100\n",
      "193/193 - 1s - loss: 0.0377 - mse: 0.0377 - val_loss: 0.2467 - val_mse: 0.2467\n",
      "Epoch 45/100\n",
      "193/193 - 1s - loss: 0.0433 - mse: 0.0433 - val_loss: 0.2379 - val_mse: 0.2379\n",
      "Epoch 46/100\n",
      "193/193 - 1s - loss: 0.0373 - mse: 0.0373 - val_loss: 0.1772 - val_mse: 0.1772\n",
      "Epoch 47/100\n",
      "193/193 - 1s - loss: 0.0440 - mse: 0.0440 - val_loss: 0.1412 - val_mse: 0.1412\n",
      "Epoch 48/100\n",
      "193/193 - 1s - loss: 0.0383 - mse: 0.0383 - val_loss: 0.1339 - val_mse: 0.1339\n",
      "Epoch 49/100\n",
      "193/193 - 1s - loss: 0.0378 - mse: 0.0378 - val_loss: 0.2095 - val_mse: 0.2095\n",
      "Epoch 50/100\n",
      "193/193 - 1s - loss: 0.0397 - mse: 0.0397 - val_loss: 0.1512 - val_mse: 0.1512\n",
      "Epoch 51/100\n",
      "193/193 - 1s - loss: 0.0464 - mse: 0.0464 - val_loss: 0.2636 - val_mse: 0.2636\n",
      "Epoch 52/100\n",
      "193/193 - 1s - loss: 0.0527 - mse: 0.0527 - val_loss: 0.2573 - val_mse: 0.2573\n",
      "Epoch 53/100\n",
      "193/193 - 1s - loss: 0.0390 - mse: 0.0390 - val_loss: 0.3780 - val_mse: 0.3780\n",
      "Epoch 54/100\n",
      "193/193 - 1s - loss: 0.0417 - mse: 0.0417 - val_loss: 0.1674 - val_mse: 0.1674\n",
      "Epoch 55/100\n",
      "193/193 - 1s - loss: 0.0417 - mse: 0.0417 - val_loss: 0.1518 - val_mse: 0.1518\n",
      "Epoch 56/100\n",
      "193/193 - 1s - loss: 0.0427 - mse: 0.0427 - val_loss: 0.2116 - val_mse: 0.2116\n",
      "Epoch 57/100\n",
      "193/193 - 1s - loss: 0.0356 - mse: 0.0356 - val_loss: 0.3691 - val_mse: 0.3691\n",
      "Epoch 58/100\n",
      "193/193 - 1s - loss: 0.0357 - mse: 0.0357 - val_loss: 0.1662 - val_mse: 0.1662\n",
      "Epoch 59/100\n",
      "193/193 - 1s - loss: 0.0403 - mse: 0.0403 - val_loss: 0.2113 - val_mse: 0.2113\n",
      "Epoch 60/100\n",
      "193/193 - 1s - loss: 0.0366 - mse: 0.0366 - val_loss: 0.2506 - val_mse: 0.2506\n"
     ]
    },
    {
     "data": {
      "image/png": "[encoded data removed]",
      "text/plain": [
       "<Figure size 432x288 with 1 Axes>"
      ]
     },
     "metadata": {
      "needs_background": "light"
     },
     "output_type": "display_data"
    },
    {
     "data": {
      "image/png": "[encoded data removed]",
      "text/plain": [
       "<Figure size 432x288 with 1 Axes>"
      ]
     },
     "metadata": {
      "needs_background": "light"
     },
     "output_type": "display_data"
    }
   ],
   "source": [
    "# Written by Delaney 5/18/21\n",
    "\n",
    "# create model\n",
    "myModel = construct_model(nHiddenUnits = 100, nHiddenLayers = 1, input_dim = trainInput.shape[1], \n",
    "                          output_dim = trainLabels.shape[1], loss = 'mse')\n",
    "myModel.summary()\n",
    "\n",
    "# early stopping when there is no improvement in 10 epochs\n",
    "callback = tf.keras.callbacks.EarlyStopping(monitor='val_loss', mode = \"min\", patience=20, restore_best_weights = True)\n",
    "\n",
    "# fit model on training data\n",
    "history = myModel.fit(trainInput, trainLabels, validation_data=(devInput, devLabels), epochs = 100, \n",
    "                      callbacks = [callback], verbose = 2)\n",
    "# _, train_mse = myModel.evaluate(trainInput, trainLabels, verbose=0)\n",
    "\n",
    "# plot loss during training\n",
    "plt.figure()\n",
    "plt.title('Loss')\n",
    "plt.plot(history.history['loss'], label='train')\n",
    "plt.plot(history.history['val_loss'], label='dev')\n",
    "plt.legend()\n",
    "plt.show()\n",
    "\n",
    "# plot mse during training\n",
    "plt.figure()\n",
    "plt.title('Mean Squared Error')\n",
    "plt.plot(history.history['mse'], label='train')\n",
    "plt.plot(history.history['val_mse'], label='dev')\n",
    "plt.legend()\n",
    "plt.show()\n",
    "\n",
    "# predict on dev set\n",
    "# yhat = myModel.predict(devInput)"
   ]
  },
  {
   "cell_type": "markdown",
   "metadata": {},
   "source": [
    "### (10) Evaluate model"
   ]
  },
  {
   "cell_type": "code",
   "execution_count": 362,
   "metadata": {},
   "outputs": [
    {
     "name": "stdout",
     "output_type": "stream",
     "text": [
      "Dev set (Pearsons r coeff):\n",
      "(0.8683564795334564, 2.333378921876466e-251)\n"
     ]
    },
    {
     "data": {
      "image/png": "[encoded data removed]",
      "text/plain": [
       "<Figure size 432x288 with 1 Axes>"
      ]
     },
     "metadata": {
      "needs_background": "light"
     },
     "output_type": "display_data"
    },
    {
     "name": "stdout",
     "output_type": "stream",
     "text": [
      "Test set (Pearsons r coeff):\n",
      "(0.8213766973475992, 9.095304811455139e-197)\n"
     ]
    },
    {
     "data": {
      "image/png": "[encoded data removed]",
      "text/plain": [
       "<Figure size 432x288 with 1 Axes>"
      ]
     },
     "metadata": {
      "needs_background": "light"
     },
     "output_type": "display_data"
    }
   ],
   "source": [
    "# FOR ONE PEAK\n",
    "\n",
    "# predict on development and test set\n",
    "yhat_dev = myModel.predict(devInput)\n",
    "yhat_test = myModel.predict(testInput)\n",
    "temp_test= np.ravel(testLabels)\n",
    "temp_dev = np.ravel(devLabels)\n",
    "\n",
    "## DEV SET\n",
    "# Pearson r coefficient for dev set\n",
    "print(\"Dev set (Pearsons r coeff):\")\n",
    "print(scipy.stats.pearsonr(temp_dev, np.ravel(yhat_dev)))\n",
    "\n",
    "# Plot\n",
    "plt.figure()\n",
    "plt.title('Dev Set: Peak MCF')\n",
    "plt.plot(devLabels, label='actual')\n",
    "plt.plot(yhat_dev, label='predicted')\n",
    "plt.legend()\n",
    "plt.show()\n",
    "\n",
    "## TEST SET\n",
    "# Pearson r coefficient for test set\n",
    "print(\"Test set (Pearsons r coeff):\")\n",
    "print(scipy.stats.pearsonr(temp_test, np.ravel(yhat_test)))\n",
    "\n",
    "# Plot\n",
    "plt.figure()\n",
    "plt.title('Test Set: Peak MCF')\n",
    "plt.plot(testLabels, label='actual')\n",
    "plt.plot(yhat_test, label='predicted')\n",
    "plt.legend()\n",
    "plt.show()"
   ]
  },
  {
   "cell_type": "markdown",
   "metadata": {},
   "source": [
    "### (11) Save model"
   ]
  },
  {
   "cell_type": "code",
   "execution_count": 312,
   "metadata": {},
   "outputs": [
    {
     "name": "stdout",
     "output_type": "stream",
     "text": [
      "Saved model to disk\n"
     ]
    }
   ],
   "source": [
    "# Taken from Boswell et al., 2021\n",
    "\n",
    "# Make directory for newly trained models\n",
    "if not os.path.isdir('NewlyTrainedModels'):\n",
    "    os.mkdir('NewlyTrainedModels')\n",
    "\n",
    "# Serialize model to JSON\n",
    "model_json = myModel.to_json()\n",
    "with open(\"NewlyTrainedModels/NeuralNet_\" + modeltype + \"_newModel.json\", \"w\") as json_file:\n",
    "    json_file.write(model_json)\n",
    "    \n",
    "# serialize weights to HDF5\n",
    "myModel.save_weights(\"NewlyTrainedModels/NeuralNet_\" + modeltype + \"_newModel_weights.h5\")\n",
    "print(\"Saved model to disk\")"
   ]
  },
  {
   "cell_type": "markdown",
   "metadata": {},
   "source": [
    "### (12) Classification Task\n",
    "\n",
    "See if we can predict gait improvements under different conditions."
   ]
  },
  {
   "cell_type": "code",
   "execution_count": null,
   "metadata": {},
   "outputs": [],
   "source": [
    "# to do"
   ]
  },
  {
   "cell_type": "markdown",
   "metadata": {},
   "source": [
    "### Testing space"
   ]
  },
  {
   "cell_type": "code",
   "execution_count": 357,
   "metadata": {},
   "outputs": [
    {
     "data": {
      "text/plain": [
       "0.8464"
      ]
     },
     "execution_count": 357,
     "metadata": {},
     "output_type": "execute_result"
    }
   ],
   "source": []
  },
  {
   "cell_type": "markdown",
   "metadata": {},
   "source": [
    "### Other code"
   ]
  },
  {
   "cell_type": "code",
   "execution_count": null,
   "metadata": {},
   "outputs": [],
   "source": [
    "# FOR TWO PEAKS\n",
    "\n",
    "# predict on development and test set\n",
    "yhat_dev = myModel.predict(devInput)\n",
    "yhat_test = myModel.predict(testInput)\n",
    "temp_test= np.ravel(testLabels)\n",
    "temp_dev = np.ravel(devLabels)\n",
    "\n",
    "## DEV SET\n",
    "# Pearson r coefficient for dev set\n",
    "print(\"Dev set (Pearsons r coeff):\")\n",
    "print(scipy.stats.pearsonr(temp_dev, np.ravel(yhat_dev)))\n",
    "print(scipy.stats.pearsonr(devLabels[:,0], yhat_dev[:,0])) # early stance\n",
    "print(scipy.stats.pearsonr(devLabels[:,1], yhat_dev[:,1])) # late stance\n",
    "\n",
    "# Plot\n",
    "plt.figure()\n",
    "plt.title('Dev Set: Early-stance peak MCF')\n",
    "plt.plot(devLabels[:,0], label='actual')\n",
    "plt.plot(yhat_dev[:,0], label='predicted')\n",
    "plt.legend()\n",
    "plt.show()\n",
    "\n",
    "plt.figure()\n",
    "plt.title('Dev Set: Late-stance peak MCF')\n",
    "plt.plot(devLabels[:,1], label='actual')\n",
    "plt.plot(yhat_dev[:,1], label='predicted')\n",
    "plt.legend()\n",
    "plt.show()\n",
    "\n",
    "## TEST SET\n",
    "# Pearson r coefficient for test set\n",
    "print(\"Test set (Pearsons r coeff):\")\n",
    "print(scipy.stats.pearsonr(temp_test, np.ravel(yhat_test)))\n",
    "print(scipy.stats.pearsonr(testLabels[:,0], yhat_test[:,0])) # early stance\n",
    "print(scipy.stats.pearsonr(testLabels[:,1], yhat_test[:,1])) # late stance\n",
    "\n",
    "# Plot\n",
    "plt.figure()\n",
    "plt.title('Test Set: Early-stance peak MCF')\n",
    "plt.plot(testLabels[:,0], label='actual')\n",
    "plt.plot(yhat_test[:,0], label='predicted')\n",
    "plt.legend()\n",
    "plt.show()\n",
    "\n",
    "plt.figure()\n",
    "plt.title('Test Set: Late-stance peak MCF')\n",
    "plt.plot(testLabels[:,1], label='actual')\n",
    "plt.plot(yhat_test[:,1], label='predicted')\n",
    "plt.legend()\n",
    "plt.show()"
   ]
  }
 ],
 "metadata": {
  "kernelspec": {
   "display_name": "Python 3",
   "language": "python",
   "name": "python3"
  },
  "language_info": {
   "codemirror_mode": {
    "name": "ipython",
    "version": 3
   },
   "file_extension": ".py",
   "mimetype": "text/x-python",
   "name": "python",
   "nbconvert_exporter": "python",
   "pygments_lexer": "ipython3",
   "version": "3.8.8"
  }
 },
 "nbformat": 4,
 "nbformat_minor": 2
}
